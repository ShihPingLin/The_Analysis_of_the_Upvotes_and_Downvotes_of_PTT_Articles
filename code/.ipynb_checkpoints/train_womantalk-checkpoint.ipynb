{
 "cells": [
  {
   "cell_type": "markdown",
   "metadata": {},
   "source": [
    "# NLP & train test split"
   ]
  },
  {
   "cell_type": "code",
   "execution_count": 1,
   "metadata": {
    "ExecuteTime": {
     "end_time": "2020-01-08T11:18:06.700802Z",
     "start_time": "2020-01-08T11:18:02.395896Z"
    }
   },
   "outputs": [],
   "source": [
    "import pandas as pd\n",
    "\n",
    "f = open('womantalk_max.csv')\n",
    "df= pd.read_csv(f, header = None)\n",
    "df = df.fillna('0')\n",
    "\n",
    "X = df.iloc[:, 2].values\n",
    "y = df.iloc[:, 1].values"
   ]
  },
  {
   "cell_type": "code",
   "execution_count": 2,
   "metadata": {
    "ExecuteTime": {
     "end_time": "2020-01-08T11:18:06.946758Z",
     "start_time": "2020-01-08T11:18:06.705792Z"
    }
   },
   "outputs": [],
   "source": [
    "# preprocessing : extracting feature vector from X_train\n",
    "# 拿掉換行和標點符號\n",
    "import re\n",
    "from zhon.hanzi import punctuation\n",
    "import string\n",
    "\n",
    "eng_punc = string.punctuation\n",
    "def preprocessor(text):\n",
    "    text = re.sub('\\n', '', text)\n",
    "    \n",
    "    re_punctuation = \"[{}]+\".format(punctuation)  #拿掉中文標點\n",
    "    text = re.sub(re_punctuation, \"\", text)\n",
    "    \n",
    "    re_punctuation_eng = \"[{}]+\".format(eng_punc) #拿掉英文標點\n",
    "    text = re.sub(re_punctuation_eng, \"\", text)    \n",
    "    \n",
    "    ptt_punc = '\\n\\t ※'\n",
    "    re_punctuation_ptt = \"[{}]+\".format(ptt_punc) #拿掉其他無用字元\n",
    "    text = re.sub(re_punctuation_ptt, \"\", text)  \n",
    "    \n",
    "    text = re.sub('[0-9A-Za-z]+','',text)\n",
    "    \n",
    "    return text\n",
    "\n",
    "for i in range(0, len(X)):\n",
    "    X[i] = preprocessor(X[i])"
   ]
  },
  {
   "cell_type": "code",
   "execution_count": 3,
   "metadata": {
    "ExecuteTime": {
     "end_time": "2020-01-08T11:18:31.509184Z",
     "start_time": "2020-01-08T11:18:06.951747Z"
    }
   },
   "outputs": [
    {
     "name": "stderr",
     "output_type": "stream",
     "text": [
      "Building prefix dict from C:\\Users\\User\\Desktop\\pytry\\final\\train_all\\jieba_dict\\dict.txt.big.txt ...\n",
      "Loading model from cache C:\\Users\\User\\AppData\\Local\\Temp\\jieba.u4dc008d2500e3c796bdd282f2ecbc9e7.cache\n",
      "Loading model cost 2.144 seconds.\n",
      "Prefix dict has been built succesfully.\n"
     ]
    }
   ],
   "source": [
    "# preprocessing : tf-idf using jieba\n",
    "# preprocessing : 移除stop word\n",
    "import jieba.analyse\n",
    "import jieba\n",
    "\n",
    "jieba.set_dictionary(\"jieba_dict/dict.txt.big.txt\")\n",
    "tags = []\n",
    "\n",
    "for i in range(0, len(X)):\n",
    "    tags.append(jieba.analyse.extract_tags(X[i], topK=50, withWeight=True))\n",
    "stopWords = []\n",
    "with open('stop_word/stop_word.txt', 'r', encoding='UTF-8') as file:\n",
    "    for data in file.readlines():\n",
    "        data = data.strip()\n",
    "        stopWords.append(data)\n",
    "        \n",
    "X_cut = X\n",
    "X_cut_stop = X\n",
    "\n",
    "for i in range(0, len(X)):\n",
    "    X_cut[i] = jieba.cut(X[i], cut_all=False)\n",
    "    X_cut_stop[i] = list(filter(lambda a: a not in stopWords and a != '\\n', X_cut[i]))"
   ]
  },
  {
   "cell_type": "code",
   "execution_count": 4,
   "metadata": {
    "ExecuteTime": {
     "end_time": "2020-01-08T11:18:31.541140Z",
     "start_time": "2020-01-08T11:18:31.513189Z"
    }
   },
   "outputs": [
    {
     "data": {
      "text/plain": [
       "\"    \\nfor i in range(0, len(y)):\\n    if y[i] == '爆':\\n        y[i] = 1\\n    elif y[i][0] == 'X':\\n        y[i] = 0\\n    else:\\n        y[i] = int(y[i])\\n        if y[i] == 0:\\n            y[i] = 0\\n        elif y[i] >= 1 and y[i] <= 10:\\n            y[i] = 0\\n        elif y[i] >= 11 and y[i] <= 50:\\n            y[i] = 1\\n        elif y[i] >= 51 and y[i] <= 99:\\n            y[i] = 1\\n\""
      ]
     },
     "execution_count": 4,
     "metadata": {},
     "output_type": "execute_result"
    }
   ],
   "source": [
    "# preprocessing : labeling y_train\n",
    "# encoding of 推噓 : \n",
    "import math\n",
    "\n",
    "for i in range(0, len(y)):\n",
    "    if y[i] == '爆':\n",
    "        y[i] = 3\n",
    "    elif y[i][0] == 'X':\n",
    "        y[i] = 0\n",
    "    else:\n",
    "        y[i] = int(y[i])\n",
    "        if y[i] == 0:\n",
    "            y[i] = 1\n",
    "        elif y[i] >= 1 and y[i] <= 10:\n",
    "            y[i] = 1\n",
    "        elif y[i] >= 11 and y[i] <= 50:\n",
    "            y[i] = 2\n",
    "        elif y[i] >= 51 and y[i] <= 99:\n",
    "            y[i] = 3\n",
    "'''    \n",
    "for i in range(0, len(y)):\n",
    "    if y[i] == '爆':\n",
    "        y[i] = 1\n",
    "    elif y[i][0] == 'X':\n",
    "        y[i] = 0\n",
    "    else:\n",
    "        y[i] = int(y[i])\n",
    "        if y[i] == 0:\n",
    "            y[i] = 0\n",
    "        elif y[i] >= 1 and y[i] <= 10:\n",
    "            y[i] = 0\n",
    "        elif y[i] >= 11 and y[i] <= 50:\n",
    "            y[i] = 1\n",
    "        elif y[i] >= 51 and y[i] <= 99:\n",
    "            y[i] = 1\n",
    "'''"
   ]
  },
  {
   "cell_type": "code",
   "execution_count": 5,
   "metadata": {
    "ExecuteTime": {
     "end_time": "2020-01-08T11:22:29.414278Z",
     "start_time": "2020-01-08T11:18:31.555110Z"
    }
   },
   "outputs": [],
   "source": [
    "# Preprocessing : 轉換成NTLK可以使用的格式\n",
    "import nltk\n",
    "import numpy as np\n",
    "\n",
    "X_cut_NTLK = []\n",
    "\n",
    "for i in range(0, len(X)):\n",
    "    article = ''\n",
    "    for word in X_cut_stop[i]:\n",
    "        article = article + word\n",
    "        article = article + ' '\n",
    "    X_cut_NTLK = np.hstack((X_cut_NTLK, article))"
   ]
  },
  {
   "cell_type": "code",
   "execution_count": 6,
   "metadata": {
    "ExecuteTime": {
     "end_time": "2020-01-08T11:22:30.296418Z",
     "start_time": "2020-01-08T11:22:29.419250Z"
    }
   },
   "outputs": [
    {
     "name": "stdout",
     "output_type": "stream",
     "text": [
      "1000\n"
     ]
    }
   ],
   "source": [
    "# Preprocessing : Bag of Word\n",
    "# Preprocessing : Term frequency - inverse document frequency (tf - idf) using NTLK\n",
    "from sklearn.feature_extraction.text import TfidfTransformer\n",
    "from sklearn.feature_extraction.text import CountVectorizer\n",
    "\n",
    "count = CountVectorizer(max_features=1000)\n",
    "bag = count.fit_transform(X_cut_NTLK)\n",
    "\n",
    "tfidf = TfidfTransformer(use_idf = True,\n",
    "                         norm = 'l2',\n",
    "                         smooth_idf = True)\n",
    "X_bag_idf = tfidf.fit_transform(bag)\n",
    "print(X_bag_idf.shape[1])"
   ]
  },
  {
   "cell_type": "code",
   "execution_count": 7,
   "metadata": {
    "ExecuteTime": {
     "end_time": "2020-01-08T11:22:30.335314Z",
     "start_time": "2020-01-08T11:22:30.328332Z"
    }
   },
   "outputs": [
    {
     "name": "stdout",
     "output_type": "stream",
     "text": [
      "3967\n",
      "3967\n"
     ]
    }
   ],
   "source": [
    "print(y.shape[0])\n",
    "print(X_bag_idf.shape[0])"
   ]
  },
  {
   "cell_type": "code",
   "execution_count": 8,
   "metadata": {
    "ExecuteTime": {
     "end_time": "2020-01-08T11:22:30.352276Z",
     "start_time": "2020-01-08T11:22:30.339303Z"
    },
    "code_folding": []
   },
   "outputs": [
    {
     "name": "stdout",
     "output_type": "stream",
     "text": [
      "Labels counts in y: [  35 2812  847  273]\n",
      "Labels counts in y_train: [  24 1968  593  191]\n",
      "Labels counts in y_test: [ 11 844 254  82]\n"
     ]
    }
   ],
   "source": [
    "from sklearn.model_selection import train_test_split\n",
    "\n",
    "y = y.astype('int')\n",
    "\n",
    "X_train, X_test, y_train, y_test = train_test_split(\n",
    "    X_bag_idf, y, test_size=0.3, random_state=1, stratify=y)\n",
    "\n",
    "print('Labels counts in y:', np.bincount(y))\n",
    "print('Labels counts in y_train:', np.bincount(y_train))\n",
    "print('Labels counts in y_test:', np.bincount(y_test))"
   ]
  },
  {
   "cell_type": "code",
   "execution_count": 9,
   "metadata": {
    "ExecuteTime": {
     "end_time": "2020-01-08T11:22:30.626564Z",
     "start_time": "2020-01-08T11:22:30.357258Z"
    }
   },
   "outputs": [
    {
     "name": "stdout",
     "output_type": "stream",
     "text": [
      "2776\n",
      "1191\n",
      "3967\n",
      "3967\n"
     ]
    }
   ],
   "source": [
    "print(len(X_train.toarray()[:,0]))\n",
    "print(len(X_test.toarray()[:,0]))\n",
    "\n",
    "X_all = np.concatenate((X_train.toarray(),X_test.toarray()),axis=0)\n",
    "y_all = np.concatenate((y_train,y_test))\n",
    "\n",
    "print(len(X_all[:,0]))\n",
    "print(len(y_all))\n",
    "\n",
    "group = np.zeros(len(y_all), dtype=np.int)\n",
    "group[0:len(X_train.toarray()[:,0])] = group[0:len(X_train.toarray()[:,0])]+1\n",
    "df_re = pd.DataFrame(X_all)\n",
    "df_re['label'] = y_all\n",
    "df_re['group'] = group"
   ]
  },
  {
   "cell_type": "code",
   "execution_count": 10,
   "metadata": {
    "ExecuteTime": {
     "end_time": "2020-01-08T11:22:31.327224Z",
     "start_time": "2020-01-08T11:22:30.673439Z"
    }
   },
   "outputs": [
    {
     "name": "stderr",
     "output_type": "stream",
     "text": [
      "D:\\Anaconda3\\lib\\site-packages\\ipykernel_launcher.py:3: UserWarning: Boolean Series key will be reindexed to match DataFrame index.\n",
      "  This is separate from the ipykernel package so we can avoid doing imports until\n",
      "D:\\Anaconda3\\lib\\site-packages\\ipykernel_launcher.py:4: UserWarning: Boolean Series key will be reindexed to match DataFrame index.\n",
      "  after removing the cwd from sys.path.\n",
      "D:\\Anaconda3\\lib\\site-packages\\ipykernel_launcher.py:5: UserWarning: Boolean Series key will be reindexed to match DataFrame index.\n",
      "  \"\"\"\n",
      "D:\\Anaconda3\\lib\\site-packages\\ipykernel_launcher.py:6: UserWarning: Boolean Series key will be reindexed to match DataFrame index.\n",
      "  \n"
     ]
    },
    {
     "name": "stdout",
     "output_type": "stream",
     "text": [
      "train label 分布: [1968 1968 1968 1968]\n",
      "test label 分布: [ 11 844 254  82]\n",
      "評分標準(只猜一群): 0.7086481947942905\n"
     ]
    }
   ],
   "source": [
    "from sklearn.utils import resample\n",
    "\n",
    "df_0 = df_re[df_re.group==1][df_re.label==0]\n",
    "df_1 = df_re[df_re.group==1][df_re.label==1]\n",
    "df_2 = df_re[df_re.group==1][df_re.label==2]\n",
    "df_3 = df_re[df_re.group==1][df_re.label==3]\n",
    "\n",
    "df_0 = resample(df_0, replace=True, n_samples=np.bincount(y_train).max(), random_state=123)\n",
    "df_1 = resample(df_1, replace=True, n_samples=np.bincount(y_train).max(), random_state=123)\n",
    "df_2 = resample(df_2, replace=True, n_samples=np.bincount(y_train).max(), random_state=123)\n",
    "df_3 = resample(df_3, replace=True, n_samples=np.bincount(y_train).max(), random_state=123)\n",
    "\n",
    "df_upsampled = pd.concat([df_0, df_1,df_2, df_3])\n",
    "\n",
    "X_train_up = np.asarray(df_upsampled.iloc[:,0:1000])\n",
    "y_train_up = np.asarray(df_upsampled.iloc[:,1000])\n",
    "X_test_up = np.asarray(df_re[df_re.group==0].iloc[:,0:1000])\n",
    "y_test_up = np.asarray(df_re[df_re.group==0].iloc[:,1000])\n",
    "\n",
    "print('train label 分布:',np.bincount(y_train_up))\n",
    "print('test label 分布:',np.bincount(y_test_up))\n",
    "print('評分標準(只猜一群):',len(y_test_up[y_test_up == 1])/len(y_test_up))"
   ]
  },
  {
   "cell_type": "markdown",
   "metadata": {
    "heading_collapsed": true
   },
   "source": [
    "# train model"
   ]
  },
  {
   "cell_type": "code",
   "execution_count": 12,
   "metadata": {
    "ExecuteTime": {
     "end_time": "2019-12-30T09:06:06.159578Z",
     "start_time": "2019-12-30T09:06:05.747556Z"
    },
    "hidden": true
   },
   "outputs": [
    {
     "name": "stderr",
     "output_type": "stream",
     "text": [
      "D:\\Anaconda3\\lib\\site-packages\\sklearn\\linear_model\\logistic.py:432: FutureWarning: Default solver will be changed to 'lbfgs' in 0.22. Specify a solver to silence this warning.\n",
      "  FutureWarning)\n",
      "D:\\Anaconda3\\lib\\site-packages\\sklearn\\linear_model\\logistic.py:469: FutureWarning: Default multi_class will be changed to 'auto' in 0.22. Specify the multi_class option to silence this warning.\n",
      "  \"this warning.\", FutureWarning)\n"
     ]
    },
    {
     "name": "stdout",
     "output_type": "stream",
     "text": [
      "Misclassified samples: 715\n",
      "Accuracy: 0.39\n",
      "Accuracy: 0.39\n",
      "\n",
      "test --- train\n",
      "\n",
      "Misclassified samples: 399\n",
      "Accuracy: 0.91\n",
      "Accuracy: 0.91\n"
     ]
    }
   ],
   "source": [
    "# logistic regression using Scikit-learn\n",
    "from sklearn.linear_model import LogisticRegression\n",
    "\n",
    "lr = LogisticRegression(C = 10, random_state = 1)\n",
    "lr.fit(X_train_up, y_train_up)\n",
    "\n",
    "# Prediction and Performance Measurement\n",
    "y_pred = lr.predict(X_test_up)\n",
    "print('Misclassified samples: %d' % (y_test_up != y_pred).sum())\n",
    "from sklearn.metrics import accuracy_score\n",
    "print('Accuracy: %.2f' %accuracy_score(y_test_up, y_pred))\n",
    "print('Accuracy: %.2f' %lr.score(X_test_up, y_test_up))\n",
    "\n",
    "print('\\ntest --- train\\n')\n",
    "\n",
    "# Prediction and Performance Measurement\n",
    "y_pred2 = lr.predict(X_train_up)\n",
    "print('Misclassified samples: %d' % (y_train_up != y_pred2).sum())\n",
    "from sklearn.metrics import accuracy_score\n",
    "print('Accuracy: %.2f' %accuracy_score(y_train_up, y_pred2))\n",
    "print('Accuracy: %.2f' %lr.score(X_train_up, y_train_up))"
   ]
  },
  {
   "cell_type": "code",
   "execution_count": 13,
   "metadata": {
    "ExecuteTime": {
     "end_time": "2019-12-30T09:06:06.171537Z",
     "start_time": "2019-12-30T09:06:06.161567Z"
    },
    "hidden": true
   },
   "outputs": [
    {
     "name": "stdout",
     "output_type": "stream",
     "text": [
      "[ 50 405 398 319]\n"
     ]
    }
   ],
   "source": [
    "print(np.bincount(y_pred))"
   ]
  },
  {
   "cell_type": "code",
   "execution_count": 14,
   "metadata": {
    "ExecuteTime": {
     "end_time": "2019-12-30T09:06:06.531841Z",
     "start_time": "2019-12-30T09:06:06.524861Z"
    },
    "hidden": true
   },
   "outputs": [
    {
     "name": "stdout",
     "output_type": "stream",
     "text": [
      "0.3190104166666667\n"
     ]
    }
   ],
   "source": [
    "j = y_pred[y_pred != 1]\n",
    "k = y_test_up[y_pred != 1]\n",
    "\n",
    "print(sum(j==k)/(len(j)+1))  ## 小群的正確率"
   ]
  },
  {
   "cell_type": "code",
   "execution_count": 15,
   "metadata": {
    "ExecuteTime": {
     "end_time": "2019-12-30T09:07:02.996605Z",
     "start_time": "2019-12-30T09:06:07.059178Z"
    },
    "hidden": true
   },
   "outputs": [
    {
     "name": "stdout",
     "output_type": "stream",
     "text": [
      "Misclassified samples: 675\n",
      "Accuracy: 0.42\n",
      "Accuracy: 0.42\n",
      "\n",
      "test --- train\n",
      "\n",
      "Misclassified samples: 13\n",
      "Accuracy: 1.00\n",
      "Accuracy: 1.00\n"
     ]
    }
   ],
   "source": [
    "# training with SVM(RBF)\n",
    "from sklearn.svm import SVC\n",
    "\n",
    "svm = SVC(kernel = 'rbf', C = 100, gamma = 1000, random_state = 1)\n",
    "svm.fit(X_train_up, y_train_up)\n",
    "\n",
    "# Prediction and Performance Measurement\n",
    "y_pred = svm.predict(X_test_up)\n",
    "print('Misclassified samples: %d' % (y_test_up != y_pred).sum())\n",
    "from sklearn.metrics import accuracy_score\n",
    "print('Accuracy: %.2f' %accuracy_score(y_test_up, y_pred))\n",
    "print('Accuracy: %.2f' %svm.score(X_test_up, y_test_up))\n",
    "\n",
    "print('\\ntest --- train\\n')\n",
    "\n",
    "# Prediction and Performance Measurement\n",
    "y_pred2 = svm.predict(X_train_up)\n",
    "print('Misclassified samples: %d' % (y_train_up != y_pred2).sum())\n",
    "from sklearn.metrics import accuracy_score\n",
    "print('Accuracy: %.2f' %accuracy_score(y_train_up, y_pred2))\n",
    "print('Accuracy: %.2f' %svm.score(X_train_up, y_train_up))"
   ]
  },
  {
   "cell_type": "code",
   "execution_count": 16,
   "metadata": {
    "ExecuteTime": {
     "end_time": "2019-12-30T09:07:03.011564Z",
     "start_time": "2019-12-30T09:07:03.000588Z"
    },
    "hidden": true
   },
   "outputs": [
    {
     "name": "stdout",
     "output_type": "stream",
     "text": [
      "[   0 1165    0    7]\n"
     ]
    }
   ],
   "source": [
    "print(np.bincount(y_pred))"
   ]
  },
  {
   "cell_type": "code",
   "execution_count": 17,
   "metadata": {
    "ExecuteTime": {
     "end_time": "2019-12-30T09:07:03.027517Z",
     "start_time": "2019-12-30T09:07:03.016577Z"
    },
    "hidden": true
   },
   "outputs": [
    {
     "name": "stdout",
     "output_type": "stream",
     "text": [
      "0.25\n"
     ]
    }
   ],
   "source": [
    "j = y_pred[y_pred != 1]\n",
    "k = y_test_up[y_pred != 1]\n",
    "\n",
    "print(sum(j==k)/(len(j)+1))  ## 小群的正確率"
   ]
  },
  {
   "cell_type": "markdown",
   "metadata": {},
   "source": [
    "# bagging vs boosting"
   ]
  },
  {
   "cell_type": "code",
   "execution_count": 11,
   "metadata": {
    "ExecuteTime": {
     "end_time": "2020-01-03T03:54:27.065127Z",
     "start_time": "2020-01-03T03:54:08.895562Z"
    }
   },
   "outputs": [
    {
     "name": "stdout",
     "output_type": "stream",
     "text": [
      "Misclassified samples: 371\n",
      "Accuracy: 0.69\n",
      "Accuracy: 0.69\n",
      "\n",
      "test --- train\n",
      "\n",
      "Misclassified samples: 1\n",
      "Accuracy: 1.00\n",
      "Accuracy: 1.00\n"
     ]
    }
   ],
   "source": [
    "# training with forest\n",
    "from sklearn.ensemble import RandomForestClassifier\n",
    "\n",
    "forest = RandomForestClassifier(criterion='entropy', n_estimators=500, random_state=1, n_jobs=-1)\n",
    "forest.fit(X_train_up, y_train_up)\n",
    "\n",
    "# Prediction and Performance Measurement\n",
    "y_pred = forest.predict(X_test_up)\n",
    "print('Misclassified samples: %d' % (y_test_up != y_pred).sum())\n",
    "from sklearn.metrics import accuracy_score\n",
    "print('Accuracy: %.2f' %accuracy_score(y_test_up, y_pred))\n",
    "print('Accuracy: %.2f' %forest.score(X_test_up, y_test_up))\n",
    "\n",
    "print('\\ntest --- train\\n')\n",
    "\n",
    "# Prediction and Performance Measurement\n",
    "y_pred2 = forest.predict(X_train_up)\n",
    "print('Misclassified samples: %d' % (y_train_up != y_pred2).sum())\n",
    "from sklearn.metrics import accuracy_score\n",
    "print('Accuracy: %.2f' %accuracy_score(y_train_up, y_pred2))\n",
    "print('Accuracy: %.2f' %forest.score(X_train_up, y_train_up))"
   ]
  },
  {
   "cell_type": "code",
   "execution_count": 12,
   "metadata": {
    "ExecuteTime": {
     "end_time": "2020-01-03T03:54:27.071110Z",
     "start_time": "2020-01-03T03:54:27.067121Z"
    }
   },
   "outputs": [
    {
     "name": "stdout",
     "output_type": "stream",
     "text": [
      "[   1 1147   43]\n"
     ]
    }
   ],
   "source": [
    "print(np.bincount(y_pred))"
   ]
  },
  {
   "cell_type": "code",
   "execution_count": 13,
   "metadata": {
    "ExecuteTime": {
     "end_time": "2020-01-03T03:54:27.079089Z",
     "start_time": "2020-01-03T03:54:27.073105Z"
    }
   },
   "outputs": [
    {
     "name": "stdout",
     "output_type": "stream",
     "text": [
      "0.17777777777777778\n"
     ]
    }
   ],
   "source": [
    "j = y_pred[y_pred != 1]\n",
    "k = y_test_up[y_pred != 1]\n",
    "\n",
    "print(sum(j==k)/(len(j)+1))  ## 小群的正確率"
   ]
  },
  {
   "cell_type": "code",
   "execution_count": 48,
   "metadata": {
    "ExecuteTime": {
     "end_time": "2020-01-03T07:06:16.469277Z",
     "start_time": "2020-01-03T07:04:18.892163Z"
    }
   },
   "outputs": [
    {
     "name": "stdout",
     "output_type": "stream",
     "text": [
      "Misclassified samples: 446\n",
      "Accuracy: 0.63\n",
      "Accuracy: 0.63\n",
      "\n",
      "test --- train\n",
      "\n",
      "Misclassified samples: 2781\n",
      "Accuracy: 0.65\n",
      "Accuracy: 0.65\n"
     ]
    }
   ],
   "source": [
    "from sklearn.ensemble import AdaBoostClassifier\n",
    "from sklearn.tree import DecisionTreeClassifier\n",
    "\n",
    "tree = DecisionTreeClassifier(max_depth=3, criterion='entropy', random_state=1)\n",
    "ada = AdaBoostClassifier(base_estimator=tree, n_estimators=200, learning_rate=0.1, random_state=1)\n",
    "ada = ada.fit(X_train_up,y_train_up)\n",
    "\n",
    "# Prediction and Performance Measurement\n",
    "y_pred = ada.predict(X_test_up)\n",
    "print('Misclassified samples: %d' % (y_test_up != y_pred).sum())\n",
    "from sklearn.metrics import accuracy_score\n",
    "print('Accuracy: %.2f' %accuracy_score(y_test_up, y_pred))\n",
    "print('Accuracy: %.2f' %ada.score(X_test_up, y_test_up))\n",
    "\n",
    "print('\\ntest --- train\\n')\n",
    "\n",
    "# Prediction and Performance Measurement\n",
    "y_pred2 = ada.predict(X_train_up)\n",
    "print('Misclassified samples: %d' % (y_train_up != y_pred2).sum())\n",
    "from sklearn.metrics import accuracy_score\n",
    "print('Accuracy: %.2f' %accuracy_score(y_train_up, y_pred2))\n",
    "print('Accuracy: %.2f' %ada.score(X_train_up, y_train_up))"
   ]
  },
  {
   "cell_type": "code",
   "execution_count": 49,
   "metadata": {
    "ExecuteTime": {
     "end_time": "2020-01-03T07:06:16.478191Z",
     "start_time": "2020-01-03T07:06:16.473204Z"
    }
   },
   "outputs": [
    {
     "name": "stdout",
     "output_type": "stream",
     "text": [
      "[  0 973 203  15]\n"
     ]
    }
   ],
   "source": [
    "print(np.bincount(y_pred))"
   ]
  },
  {
   "cell_type": "code",
   "execution_count": 50,
   "metadata": {
    "ExecuteTime": {
     "end_time": "2020-01-03T07:06:16.502140Z",
     "start_time": "2020-01-03T07:06:16.485185Z"
    }
   },
   "outputs": [
    {
     "name": "stdout",
     "output_type": "stream",
     "text": [
      "0.2191780821917808\n"
     ]
    }
   ],
   "source": [
    "j = y_pred[y_pred != 1]\n",
    "k = y_test_up[y_pred != 1]\n",
    "\n",
    "print(sum(j==k)/(len(j)+1))  ## 小群的正確率"
   ]
  },
  {
   "cell_type": "markdown",
   "metadata": {},
   "source": [
    "# nn and mlp"
   ]
  },
  {
   "cell_type": "code",
   "execution_count": 11,
   "metadata": {
    "ExecuteTime": {
     "end_time": "2020-01-08T11:24:26.153075Z",
     "start_time": "2020-01-08T11:22:31.329228Z"
    }
   },
   "outputs": [
    {
     "name": "stdout",
     "output_type": "stream",
     "text": [
      "Misclassified samples: 578\n",
      "Accuracy: 0.51\n",
      "Accuracy: 0.51\n",
      "\n",
      "test --- train\n",
      "\n",
      "Misclassified samples: 1\n",
      "Accuracy: 1.00\n",
      "Accuracy: 1.00\n"
     ]
    }
   ],
   "source": [
    "from sklearn.neural_network import MLPClassifier\n",
    "\n",
    "mlp = MLPClassifier(random_state=1,hidden_layer_sizes=(100, ))\n",
    "mlp.fit(X_train_up, y_train_up)\n",
    "\n",
    "# Prediction and Performance Measurement\n",
    "y_pred = mlp.predict(X_test_up)\n",
    "print('Misclassified samples: %d' % (y_test_up != y_pred).sum())\n",
    "from sklearn.metrics import accuracy_score\n",
    "print('Accuracy: %.2f' %accuracy_score(y_test_up, y_pred))\n",
    "print('Accuracy: %.2f' %mlp.score(X_test_up, y_test_up))\n",
    "\n",
    "print('\\ntest --- train\\n')\n",
    "\n",
    "# Prediction and Performance Measurement\n",
    "y_pred2 = mlp.predict(X_train_up)\n",
    "print('Misclassified samples: %d' % (y_train_up != y_pred2).sum())\n",
    "from sklearn.metrics import accuracy_score\n",
    "print('Accuracy: %.2f' %accuracy_score(y_train_up, y_pred2))\n",
    "print('Accuracy: %.2f' %mlp.score(X_train_up, y_train_up))"
   ]
  },
  {
   "cell_type": "code",
   "execution_count": 12,
   "metadata": {
    "ExecuteTime": {
     "end_time": "2020-01-08T11:24:26.165034Z",
     "start_time": "2020-01-08T11:24:26.157056Z"
    }
   },
   "outputs": [
    {
     "name": "stdout",
     "output_type": "stream",
     "text": [
      "[  4 706 363 118]\n",
      "0.19135802469135801\n"
     ]
    }
   ],
   "source": [
    "print(np.bincount(y_pred))\n",
    "j = y_pred[y_pred != 1]\n",
    "k = y_test_up[y_pred != 1]\n",
    "\n",
    "print(sum(j==k)/(len(j)+1))  ## 小群的正確率"
   ]
  },
  {
   "cell_type": "code",
   "execution_count": 13,
   "metadata": {
    "ExecuteTime": {
     "end_time": "2020-01-08T11:24:26.233364Z",
     "start_time": "2020-01-08T11:24:26.173011Z"
    },
    "code_folding": [
     5
    ]
   },
   "outputs": [],
   "source": [
    "# NN\n",
    "import numpy as np\n",
    "import sys\n",
    "\n",
    "\n",
    "class NeuralNetMLP(object):\n",
    "    \"\"\" Feedforward neural network / Multi-layer perceptron classifier.\n",
    "\n",
    "    Parameters\n",
    "    ------------\n",
    "    n_hidden : int (default: 30)\n",
    "        Number of hidden units.\n",
    "    l2 : float (default: 0.)\n",
    "        Lambda value for L2-regularization.\n",
    "        No regularization if l2=0. (default)\n",
    "    epochs : int (default: 100)\n",
    "        Number of passes over the training set.\n",
    "    eta : float (default: 0.001)\n",
    "        Learning rate.\n",
    "    shuffle : bool (default: True)\n",
    "        Shuffles training data every epoch if True to prevent circles.\n",
    "    minibatche_size : int (default: 1)\n",
    "        Number of training samples per minibatch.\n",
    "    seed : int (default: None)\n",
    "        Random seed for initalizing weights and shuffling.\n",
    "\n",
    "    Attributes\n",
    "    -----------\n",
    "    eval_ : dict\n",
    "      Dictionary collecting the cost, training accuracy,\n",
    "      and validation accuracy for each epoch during training.\n",
    "\n",
    "    \"\"\"\n",
    "    def __init__(self, n_hidden=30,\n",
    "                 l2=0., epochs=100, eta=0.001,\n",
    "                 shuffle=True, minibatch_size=1, seed=None):\n",
    "\n",
    "        self.random = np.random.RandomState(seed)\n",
    "        self.n_hidden = n_hidden\n",
    "        self.l2 = l2\n",
    "        self.epochs = epochs\n",
    "        self.eta = eta\n",
    "        self.shuffle = shuffle\n",
    "        self.minibatch_size = minibatch_size\n",
    "\n",
    "    def _onehot(self, y, n_classes):\n",
    "        \"\"\"Encode labels into one-hot representation\n",
    "\n",
    "        Parameters\n",
    "        ------------\n",
    "        y : array, shape = [n_samples]\n",
    "            Target values.\n",
    "\n",
    "        Returns\n",
    "        -----------\n",
    "        onehot : array, shape = (n_samples, n_labels)\n",
    "\n",
    "        \"\"\"\n",
    "        onehot = np.zeros((n_classes, y.shape[0]))\n",
    "        for idx, val in enumerate(y.astype(int)):\n",
    "            onehot[val, idx] = 1.\n",
    "        return onehot.T\n",
    "\n",
    "    def _sigmoid(self, z):\n",
    "        \"\"\"Compute logistic function (sigmoid)\"\"\"\n",
    "        return 1. / (1. + np.exp(-np.clip(z, -250, 250)))\n",
    "\n",
    "    def _forward(self, X):\n",
    "        \"\"\"Compute forward propagation step\"\"\"\n",
    "\n",
    "        # step 1: net input of hidden layer\n",
    "        # [n_samples, n_features] dot [n_features, n_hidden]\n",
    "        # -> [n_samples, n_hidden]\n",
    "        z_h = np.dot(X, self.w_h) + self.b_h\n",
    "\n",
    "        # step 2: activation of hidden layer\n",
    "        a_h = self._sigmoid(z_h)\n",
    "\n",
    "        # step 3: net input of output layer\n",
    "        # [n_samples, n_hidden] dot [n_hidden, n_classlabels]\n",
    "        # -> [n_samples, n_classlabels]\n",
    "\n",
    "        z_out = np.dot(a_h, self.w_out) + self.b_out\n",
    "\n",
    "        # step 4: activation output layer\n",
    "        a_out = self._sigmoid(z_out)\n",
    "\n",
    "        return z_h, a_h, z_out, a_out\n",
    "\n",
    "    def _compute_cost(self, y_enc, output):\n",
    "        \"\"\"Compute cost function.\n",
    "\n",
    "        Parameters\n",
    "        ----------\n",
    "        y_enc : array, shape = (n_samples, n_labels)\n",
    "            one-hot encoded class labels.\n",
    "        output : array, shape = [n_samples, n_output_units]\n",
    "            Activation of the output layer (forward propagation)\n",
    "\n",
    "        Returns\n",
    "        ---------\n",
    "        cost : float\n",
    "            Regularized cost\n",
    "\n",
    "        \"\"\"\n",
    "        L2_term = (self.l2 *\n",
    "                   (np.sum(self.w_h ** 2.) +\n",
    "                    np.sum(self.w_out ** 2.)))\n",
    "\n",
    "        term1 = -y_enc * (np.log(output))\n",
    "        term2 = (1. - y_enc) * np.log(1. - output)\n",
    "        cost = np.sum(term1 - term2) + L2_term\n",
    "        return cost\n",
    "\n",
    "    def predict(self, X):\n",
    "        \"\"\"Predict class labels\n",
    "\n",
    "        Parameters\n",
    "        -----------\n",
    "        X : array, shape = [n_samples, n_features]\n",
    "            Input layer with original features.\n",
    "\n",
    "        Returns:\n",
    "        ----------\n",
    "        y_pred : array, shape = [n_samples]\n",
    "            Predicted class labels.\n",
    "\n",
    "        \"\"\"\n",
    "        z_h, a_h, z_out, a_out = self._forward(X)\n",
    "        y_pred = np.argmax(z_out, axis=1)\n",
    "        return y_pred\n",
    "\n",
    "    def fit(self, X_train, y_train, X_valid, y_valid):\n",
    "        \"\"\" Learn weights from training data.\n",
    "\n",
    "        Parameters\n",
    "        -----------\n",
    "        X_train : array, shape = [n_samples, n_features]\n",
    "            Input layer with original features.\n",
    "        y_train : array, shape = [n_samples]\n",
    "            Target class labels.\n",
    "        X_valid : array, shape = [n_samples, n_features]\n",
    "            Sample features for validation during training\n",
    "        y_valid : array, shape = [n_samples]\n",
    "            Sample labels for validation during training\n",
    "\n",
    "        Returns:\n",
    "        ----------\n",
    "        self\n",
    "\n",
    "        \"\"\"\n",
    "        n_output = np.unique(y_train).shape[0]  # number of class labels\n",
    "        n_features = X_train.shape[1]\n",
    "\n",
    "        ########################\n",
    "        # Weight initialization\n",
    "        ########################\n",
    "\n",
    "        # weights for input -> hidden\n",
    "        self.b_h = np.zeros(self.n_hidden)\n",
    "        self.w_h = self.random.normal(loc=0.0, scale=0.1,\n",
    "                                      size=(n_features, self.n_hidden))\n",
    "\n",
    "        # weights for hidden -> output\n",
    "        self.b_out = np.zeros(n_output)\n",
    "        self.w_out = self.random.normal(loc=0.0, scale=0.1,\n",
    "                                        size=(self.n_hidden, n_output))\n",
    "\n",
    "        epoch_strlen = len(str(self.epochs))  # for progress formatting\n",
    "        self.eval_ = {'cost': [], 'train_acc': [], 'valid_acc': []}\n",
    "\n",
    "        y_train_enc = self._onehot(y_train, n_output)\n",
    "\n",
    "        # iterate over training epochs\n",
    "        for i in range(self.epochs):\n",
    "\n",
    "            # iterate over minibatches\n",
    "            indices = np.arange(X_train.shape[0])\n",
    "\n",
    "            if self.shuffle:\n",
    "                self.random.shuffle(indices)\n",
    "\n",
    "            for start_idx in range(0, indices.shape[0] - self.minibatch_size +\n",
    "                                   1, self.minibatch_size):\n",
    "                batch_idx = indices[start_idx:start_idx + self.minibatch_size]\n",
    "\n",
    "                # forward propagation\n",
    "                z_h, a_h, z_out, a_out = self._forward(X_train[batch_idx])\n",
    "\n",
    "                ##################\n",
    "                # Backpropagation\n",
    "                ##################\n",
    "\n",
    "                # [n_samples, n_classlabels]\n",
    "                sigma_out = a_out - y_train_enc[batch_idx]\n",
    "\n",
    "                # [n_samples, n_hidden]\n",
    "                sigmoid_derivative_h = a_h * (1. - a_h)\n",
    "\n",
    "                # [n_samples, n_classlabels] dot [n_classlabels, n_hidden]\n",
    "                # -> [n_samples, n_hidden]\n",
    "                sigma_h = (np.dot(sigma_out, self.w_out.T) *\n",
    "                           sigmoid_derivative_h)\n",
    "\n",
    "                # [n_features, n_samples] dot [n_samples, n_hidden]\n",
    "                # -> [n_features, n_hidden]\n",
    "                grad_w_h = np.dot(X_train[batch_idx].T, sigma_h)\n",
    "                grad_b_h = np.sum(sigma_h, axis=0)\n",
    "\n",
    "                # [n_hidden, n_samples] dot [n_samples, n_classlabels]\n",
    "                # -> [n_hidden, n_classlabels]\n",
    "                grad_w_out = np.dot(a_h.T, sigma_out)\n",
    "                grad_b_out = np.sum(sigma_out, axis=0)\n",
    "\n",
    "                # Regularization and weight updates\n",
    "                delta_w_h = (grad_w_h + self.l2*self.w_h)\n",
    "                delta_b_h = grad_b_h # bias is not regularized\n",
    "                self.w_h -= self.eta * delta_w_h\n",
    "                self.b_h -= self.eta * delta_b_h\n",
    "\n",
    "                delta_w_out = (grad_w_out + self.l2*self.w_out)\n",
    "                delta_b_out = grad_b_out  # bias is not regularized\n",
    "                self.w_out -= self.eta * delta_w_out\n",
    "                self.b_out -= self.eta * delta_b_out\n",
    "\n",
    "            #############\n",
    "            # Evaluation\n",
    "            #############\n",
    "\n",
    "            # Evaluation after each epoch during training\n",
    "            z_h, a_h, z_out, a_out = self._forward(X_train)\n",
    "            \n",
    "            cost = self._compute_cost(y_enc=y_train_enc,\n",
    "                                      output=a_out)\n",
    "\n",
    "            y_train_pred = self.predict(X_train)\n",
    "            y_valid_pred = self.predict(X_valid)\n",
    "\n",
    "            train_acc = ((np.sum(y_train == y_train_pred)).astype(np.float) /\n",
    "                         X_train.shape[0])\n",
    "            valid_acc = ((np.sum(y_valid == y_valid_pred)).astype(np.float) /\n",
    "                         X_valid.shape[0])\n",
    "\n",
    "            sys.stderr.write('\\r%0*d/%d | Cost: %.2f '\n",
    "                             '| Train/Valid Acc.: %.2f%%/%.2f%% ' %\n",
    "                             (epoch_strlen, i+1, self.epochs, cost,\n",
    "                              train_acc*100, valid_acc*100))\n",
    "            sys.stderr.flush()\n",
    "\n",
    "            self.eval_['cost'].append(cost)\n",
    "            self.eval_['train_acc'].append(train_acc)\n",
    "            self.eval_['valid_acc'].append(valid_acc)\n",
    "\n",
    "        return self"
   ]
  },
  {
   "cell_type": "code",
   "execution_count": 14,
   "metadata": {
    "ExecuteTime": {
     "end_time": "2020-01-08T11:29:22.648592Z",
     "start_time": "2020-01-08T11:24:26.273255Z"
    }
   },
   "outputs": [
    {
     "name": "stderr",
     "output_type": "stream",
     "text": [
      "200/200 | Cost: 9289.06 | Train/Valid Acc.: 78.06%/44.84%  "
     ]
    },
    {
     "data": {
      "text/plain": [
       "<__main__.NeuralNetMLP at 0x1eb9cd2c0b8>"
      ]
     },
     "execution_count": 14,
     "metadata": {},
     "output_type": "execute_result"
    }
   ],
   "source": [
    "n_epochs = 200\n",
    "nn = NeuralNetMLP(n_hidden=100, \n",
    "                  l2=0.01, \n",
    "                  epochs=n_epochs, \n",
    "                  eta=0.0005,\n",
    "                  minibatch_size=100, \n",
    "                  shuffle=True,\n",
    "                  seed=1)\n",
    "\n",
    "nn.fit(X_train_up,y_train_up,\n",
    "       X_test_up,y_test_up)"
   ]
  },
  {
   "cell_type": "code",
   "execution_count": 18,
   "metadata": {
    "ExecuteTime": {
     "end_time": "2020-01-08T11:32:17.891673Z",
     "start_time": "2020-01-08T11:32:17.336157Z"
    }
   },
   "outputs": [
    {
     "data": {
      "image/png": "[encoded data removed]",
      "text/plain": [
       "<Figure size 432x288 with 1 Axes>"
      ]
     },
     "metadata": {
      "needs_background": "light"
     },
     "output_type": "display_data"
    }
   ],
   "source": [
    "import matplotlib.pyplot as plt\n",
    "\n",
    "plt.plot(range(nn.epochs), nn.eval_['cost'])\n",
    "plt.ylabel('Cost')\n",
    "plt.xlabel('Epochs')\n",
    "#plt.savefig('images/12_07.png', dpi=300)\n",
    "plt.show()"
   ]
  },
  {
   "cell_type": "code",
   "execution_count": 16,
   "metadata": {
    "ExecuteTime": {
     "end_time": "2020-01-08T11:29:24.231934Z",
     "start_time": "2020-01-08T11:29:24.012269Z"
    }
   },
   "outputs": [
    {
     "name": "stdout",
     "output_type": "stream",
     "text": [
      "Test accuracy: 44.84%\n",
      "\n",
      "test --- train\n",
      "\n",
      "Train accuracy: 78.06%\n"
     ]
    }
   ],
   "source": [
    "y_pred = nn.predict(X_test_up)\n",
    "acc = (np.sum(y_pred == y_test_up)\n",
    "       .astype(np.float) / X_test_up.shape[0])\n",
    "\n",
    "print('Test accuracy: %.2f%%' % (acc * 100))\n",
    "\n",
    "print('\\ntest --- train\\n')\n",
    "\n",
    "y_pred2 = nn.predict(X_train_up)\n",
    "acc2 = (np.sum(y_pred2 == y_train_up)\n",
    "       .astype(np.float) / X_train_up.shape[0])\n",
    "\n",
    "print('Train accuracy: %.2f%%' % (acc2 * 100))"
   ]
  },
  {
   "cell_type": "code",
   "execution_count": 17,
   "metadata": {
    "ExecuteTime": {
     "end_time": "2020-01-08T11:29:24.244976Z",
     "start_time": "2020-01-08T11:29:24.233927Z"
    }
   },
   "outputs": [
    {
     "name": "stdout",
     "output_type": "stream",
     "text": [
      "[ 20 574 312 285]\n",
      "0.15048543689320387\n"
     ]
    }
   ],
   "source": [
    "print(np.bincount(y_pred))\n",
    "j = y_pred[y_pred != 1]\n",
    "k = y_test_up[y_pred != 1]\n",
    "\n",
    "print(sum(j==k)/(len(j)+1))  ## 小群的正確率"
   ]
  },
  {
   "cell_type": "code",
   "execution_count": null,
   "metadata": {},
   "outputs": [],
   "source": []
  }
 ],
 "metadata": {
  "kernelspec": {
   "display_name": "Python 3",
   "language": "python",
   "name": "python3"
  },
  "language_info": {
   "codemirror_mode": {
    "name": "ipython",
    "version": 3
   },
   "file_extension": ".py",
   "mimetype": "text/x-python",
   "name": "python",
   "nbconvert_exporter": "python",
   "pygments_lexer": "ipython3",
   "version": "3.7.3"
  }
 },
 "nbformat": 4,
 "nbformat_minor": 2
}
